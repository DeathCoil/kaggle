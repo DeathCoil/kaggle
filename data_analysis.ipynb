{
 "cells": [
  {
   "cell_type": "code",
   "execution_count": 1,
   "metadata": {
    "collapsed": false
   },
   "outputs": [],
   "source": [
    "import numpy as np\n",
    "import pandas as pd\n",
    "import matplotlib.pyplot as plt\n",
    "from IPython.display import HTML\n",
    "from sklearn import cross_validation\n",
    "from sklearn import grid_search\n",
    "from sklearn import preprocessing\n",
    "from sklearn import metrics\n",
    "import xgboost as xgb\n",
    "import datetime"
   ]
  },
  {
   "cell_type": "code",
   "execution_count": 2,
   "metadata": {
    "collapsed": false
   },
   "outputs": [
    {
     "name": "stderr",
     "output_type": "stream",
     "text": [
      "/home/deathcoil/anaconda3/envs/python2env/lib/python2.7/site-packages/IPython/core/interactiveshell.py:2902: DtypeWarning: Columns (7) have mixed types. Specify dtype option on import or set low_memory=False.\n",
      "  interactivity=interactivity, compiler=compiler, result=result)\n"
     ]
    }
   ],
   "source": [
    "train = pd.read_csv(\"input/train.csv\", parse_dates=[\"Date\"])\n",
    "test = pd.read_csv(\"input/test.csv\", parse_dates=[\"Date\"])\n",
    "stores = pd.read_csv(\"input/store.csv\")"
   ]
  },
  {
   "cell_type": "markdown",
   "metadata": {
    "collapsed": true
   },
   "source": [
    "## Some data analysis"
   ]
  },
  {
   "cell_type": "code",
   "execution_count": 3,
   "metadata": {
    "collapsed": false
   },
   "outputs": [
    {
     "data": {
      "text/html": [
       "<div>\n",
       "<table border=\"1\" class=\"dataframe\">\n",
       "  <thead>\n",
       "    <tr style=\"text-align: right;\">\n",
       "      <th></th>\n",
       "      <th>Store</th>\n",
       "      <th>DayOfWeek</th>\n",
       "      <th>Date</th>\n",
       "      <th>Sales</th>\n",
       "      <th>Customers</th>\n",
       "      <th>Open</th>\n",
       "      <th>Promo</th>\n",
       "      <th>StateHoliday</th>\n",
       "      <th>SchoolHoliday</th>\n",
       "    </tr>\n",
       "  </thead>\n",
       "  <tbody>\n",
       "    <tr>\n",
       "      <th>2</th>\n",
       "      <td>3</td>\n",
       "      <td>5</td>\n",
       "      <td>2015-07-31</td>\n",
       "      <td>8314</td>\n",
       "      <td>821</td>\n",
       "      <td>1</td>\n",
       "      <td>1</td>\n",
       "      <td>0</td>\n",
       "      <td>1</td>\n",
       "    </tr>\n",
       "    <tr>\n",
       "      <th>1117</th>\n",
       "      <td>3</td>\n",
       "      <td>4</td>\n",
       "      <td>2015-07-30</td>\n",
       "      <td>8977</td>\n",
       "      <td>823</td>\n",
       "      <td>1</td>\n",
       "      <td>1</td>\n",
       "      <td>0</td>\n",
       "      <td>1</td>\n",
       "    </tr>\n",
       "    <tr>\n",
       "      <th>2232</th>\n",
       "      <td>3</td>\n",
       "      <td>3</td>\n",
       "      <td>2015-07-29</td>\n",
       "      <td>7610</td>\n",
       "      <td>716</td>\n",
       "      <td>1</td>\n",
       "      <td>1</td>\n",
       "      <td>0</td>\n",
       "      <td>1</td>\n",
       "    </tr>\n",
       "    <tr>\n",
       "      <th>3347</th>\n",
       "      <td>3</td>\n",
       "      <td>2</td>\n",
       "      <td>2015-07-28</td>\n",
       "      <td>8864</td>\n",
       "      <td>818</td>\n",
       "      <td>1</td>\n",
       "      <td>1</td>\n",
       "      <td>0</td>\n",
       "      <td>1</td>\n",
       "    </tr>\n",
       "    <tr>\n",
       "      <th>4462</th>\n",
       "      <td>3</td>\n",
       "      <td>1</td>\n",
       "      <td>2015-07-27</td>\n",
       "      <td>8107</td>\n",
       "      <td>768</td>\n",
       "      <td>1</td>\n",
       "      <td>1</td>\n",
       "      <td>0</td>\n",
       "      <td>1</td>\n",
       "    </tr>\n",
       "    <tr>\n",
       "      <th>6692</th>\n",
       "      <td>3</td>\n",
       "      <td>6</td>\n",
       "      <td>2015-07-25</td>\n",
       "      <td>3878</td>\n",
       "      <td>412</td>\n",
       "      <td>1</td>\n",
       "      <td>0</td>\n",
       "      <td>0</td>\n",
       "      <td>0</td>\n",
       "    </tr>\n",
       "    <tr>\n",
       "      <th>7807</th>\n",
       "      <td>3</td>\n",
       "      <td>5</td>\n",
       "      <td>2015-07-24</td>\n",
       "      <td>5080</td>\n",
       "      <td>607</td>\n",
       "      <td>1</td>\n",
       "      <td>0</td>\n",
       "      <td>0</td>\n",
       "      <td>1</td>\n",
       "    </tr>\n",
       "    <tr>\n",
       "      <th>8922</th>\n",
       "      <td>3</td>\n",
       "      <td>4</td>\n",
       "      <td>2015-07-23</td>\n",
       "      <td>5702</td>\n",
       "      <td>655</td>\n",
       "      <td>1</td>\n",
       "      <td>0</td>\n",
       "      <td>0</td>\n",
       "      <td>1</td>\n",
       "    </tr>\n",
       "    <tr>\n",
       "      <th>10037</th>\n",
       "      <td>3</td>\n",
       "      <td>3</td>\n",
       "      <td>2015-07-22</td>\n",
       "      <td>5414</td>\n",
       "      <td>607</td>\n",
       "      <td>1</td>\n",
       "      <td>0</td>\n",
       "      <td>0</td>\n",
       "      <td>1</td>\n",
       "    </tr>\n",
       "    <tr>\n",
       "      <th>11152</th>\n",
       "      <td>3</td>\n",
       "      <td>2</td>\n",
       "      <td>2015-07-21</td>\n",
       "      <td>5600</td>\n",
       "      <td>661</td>\n",
       "      <td>1</td>\n",
       "      <td>0</td>\n",
       "      <td>0</td>\n",
       "      <td>1</td>\n",
       "    </tr>\n",
       "  </tbody>\n",
       "</table>\n",
       "</div>"
      ],
      "text/plain": [
       "       Store  DayOfWeek       Date  Sales  Customers  Open  Promo  \\\n",
       "2          3          5 2015-07-31   8314        821     1      1   \n",
       "1117       3          4 2015-07-30   8977        823     1      1   \n",
       "2232       3          3 2015-07-29   7610        716     1      1   \n",
       "3347       3          2 2015-07-28   8864        818     1      1   \n",
       "4462       3          1 2015-07-27   8107        768     1      1   \n",
       "6692       3          6 2015-07-25   3878        412     1      0   \n",
       "7807       3          5 2015-07-24   5080        607     1      0   \n",
       "8922       3          4 2015-07-23   5702        655     1      0   \n",
       "10037      3          3 2015-07-22   5414        607     1      0   \n",
       "11152      3          2 2015-07-21   5600        661     1      0   \n",
       "\n",
       "      StateHoliday  SchoolHoliday  \n",
       "2                0              1  \n",
       "1117             0              1  \n",
       "2232             0              1  \n",
       "3347             0              1  \n",
       "4462             0              1  \n",
       "6692             0              0  \n",
       "7807             0              1  \n",
       "8922             0              1  \n",
       "10037            0              1  \n",
       "11152            0              1  "
      ]
     },
     "execution_count": 3,
     "metadata": {},
     "output_type": "execute_result"
    }
   ],
   "source": [
    "train[(train[\"Store\"] == 3) & (train[\"Sales\"] != 0)].head(n = 10)"
   ]
  },
  {
   "cell_type": "code",
   "execution_count": 4,
   "metadata": {
    "collapsed": true
   },
   "outputs": [],
   "source": [
    "date_nopromo = np.array(train[(train[\"Store\"] == 3) & (train[\"Sales\"] != 0) &\n",
    "                                 (train[\"Promo\"] == 0)][\"Date\"])\n",
    "date_promo = np.array(train[(train[\"Store\"] == 3) & (train[\"Sales\"] != 0) &\n",
    "                                 ((train[\"Promo\"] != 0) )][\"Date\"])"
   ]
  },
  {
   "cell_type": "code",
   "execution_count": 5,
   "metadata": {
    "collapsed": true
   },
   "outputs": [],
   "source": [
    "sales_nopromo = np.array(train[(train[\"Store\"] == 3) & (train[\"Sales\"] != 0) &\n",
    "                                 (train[\"Promo\"] == 0)][\"Sales\"])\n",
    "sales_promo = np.array(train[(train[\"Store\"] == 3) & (train[\"Sales\"] != 0) &\n",
    "                                 ((train[\"Promo\"] != 0))][\"Sales\"])"
   ]
  },
  {
   "cell_type": "code",
   "execution_count": 6,
   "metadata": {
    "collapsed": false
   },
   "outputs": [
    {
     "data": {
      "image/png": "[encoded data removed]",
      "text/plain": [
       "<matplotlib.figure.Figure at 0x7fabb7950350>"
      ]
     },
     "metadata": {},
     "output_type": "display_data"
    }
   ],
   "source": [
    "%matplotlib inline\n",
    "plt.plot(date_nopromo, sales_nopromo, \"r\", label=\"nopromo\")\n",
    "plt.plot(date_promo, sales_promo, label=\"promo\")\n",
    "plt.legend()\n",
    "plt.show()"
   ]
  },
  {
   "cell_type": "code",
   "execution_count": 7,
   "metadata": {
    "collapsed": false
   },
   "outputs": [
    {
     "name": "stdout",
     "output_type": "stream",
     "text": [
      "Store                     int64\n",
      "DayOfWeek                 int64\n",
      "Date             datetime64[ns]\n",
      "Sales                     int64\n",
      "Customers                 int64\n",
      "Open                      int64\n",
      "Promo                     int64\n",
      "StateHoliday             object\n",
      "SchoolHoliday             int64\n",
      "dtype: object\n"
     ]
    }
   ],
   "source": [
    "print(train.dtypes)"
   ]
  },
  {
   "cell_type": "code",
   "execution_count": 8,
   "metadata": {
    "collapsed": false
   },
   "outputs": [
    {
     "name": "stdout",
     "output_type": "stream",
     "text": [
      "Id                        int64\n",
      "Store                     int64\n",
      "DayOfWeek                 int64\n",
      "Date             datetime64[ns]\n",
      "Open                    float64\n",
      "Promo                     int64\n",
      "StateHoliday             object\n",
      "SchoolHoliday             int64\n",
      "dtype: object\n"
     ]
    }
   ],
   "source": [
    "print(test.dtypes)"
   ]
  },
  {
   "cell_type": "markdown",
   "metadata": {},
   "source": [
    "## Simple xgboost model"
   ]
  },
  {
   "cell_type": "code",
   "execution_count": 9,
   "metadata": {
    "collapsed": true
   },
   "outputs": [],
   "source": [
    "class EnsembleClassifier():\n",
    "    def __init__(self, **kwargs):\n",
    "\n",
    "        #seed_list = [1234, 2345, 3456]\n",
    "        seed_list = [1234]\n",
    "        clfs = []\n",
    "\n",
    "        for seed in seed_list:\n",
    "            temp_params = kwargs\n",
    "            temp_params[\"seed\"] = seed\n",
    "            clfs.append(xgb.XGBRegressor(**temp_params))\n",
    "\n",
    "        self.clfs = clfs\n",
    "\n",
    "    def fit(self, X, y):\n",
    "        for clf in self.clfs:\n",
    "            clf.fit(X, y)\n",
    "        return self\n",
    "\n",
    "    def predict(self, X):\n",
    "        preds = np.zeros(X.shape[0])\n",
    "        for clf in self.clfs:\n",
    "            preds += clf.predict(X)\n",
    "\n",
    "        preds /= len(self.clfs)\n",
    "        return preds\n",
    "\n",
    "    def set_params(self, **params):\n",
    "        for clf in self.clfs:\n",
    "            clf.set_params(**params)\n",
    "\n",
    "\n",
    "        return self\n",
    "\n",
    "    def get_params(self, deep=True):\n",
    "        return self.clfs[0].get_params(deep=deep)"
   ]
  },
  {
   "cell_type": "code",
   "execution_count": 10,
   "metadata": {
    "collapsed": true
   },
   "outputs": [],
   "source": [
    "# byChenglong Chen\n",
    "def ToWeight(y):\n",
    "    w = np.zeros(y.shape, dtype=float)\n",
    "    ind = y != 0\n",
    "    w[ind] = 1./(y[ind]**2)\n",
    "    return w\n",
    "\n",
    "\n",
    "def rmspe(yhat, y):\n",
    "    y = np.exp(y) - 1\n",
    "    yhat = np.exp(yhat) - 1\n",
    "    w = ToWeight(y)\n",
    "    rmspe = np.sqrt(np.mean( w * (y - yhat)**2 ))\n",
    "    return rmspe"
   ]
  },
  {
   "cell_type": "code",
   "execution_count": 11,
   "metadata": {
    "collapsed": true
   },
   "outputs": [],
   "source": [
    "def load_data():\n",
    "    train = pd.read_csv(\"input/train.csv\")\n",
    "    test = pd.read_csv(\"input/test.csv\")\n",
    "    store = pd.read_csv(\"input/store.csv\")\n",
    "\n",
    "    return train, test, store"
   ]
  },
  {
   "cell_type": "code",
   "execution_count": 12,
   "metadata": {
    "collapsed": true
   },
   "outputs": [],
   "source": [
    "def convert_date(data):\n",
    "    data['year'] = data[\"Date\"].apply(lambda x: x.split('-')[0]).astype(pd.np.int64)\n",
    "    data['month'] = data[\"Date\"].apply(lambda x: x.split('-')[1]).astype(pd.np.int64)\n",
    "    data['day'] = data[\"Date\"].apply(lambda x: x.split('-')[2]).astype(pd.np.int64)\n",
    "\n",
    "    data[\"MonthBegins\"] = data[\"day\"] < 6\n",
    "    data[\"MonthEnds\"] = data[\"day\"] > 24\n",
    "\n",
    "    return data"
   ]
  },
  {
   "cell_type": "code",
   "execution_count": 13,
   "metadata": {
    "collapsed": true
   },
   "outputs": [],
   "source": [
    "def preprocess_data(train, test, store):\n",
    "    test.fillna(1, inplace=True)\n",
    "    test[\"Open\"] = test[\"Open\"].astype(pd.np.int64)\n",
    "\n",
    "    train = train[train[\"Open\"] != 0]\n",
    "\n",
    "    train = pd.merge(train, store, on=\"Store\")\n",
    "    test = pd.merge(test, store, on=\"Store\")\n",
    "\n",
    "\n",
    "    sales = train[\"Sales\"]\n",
    "    index = test[\"Id\"]\n",
    "\n",
    "    train_test_index = -(train[\"Date\"] < \"2015-06-15\").astype(pd.np.int32).values\n",
    "    return train, sales.values.astype(\"float32\"), test, index, train_test_index"
   ]
  },
  {
   "cell_type": "code",
   "execution_count": 14,
   "metadata": {
    "collapsed": true
   },
   "outputs": [],
   "source": [
    "def add_counters(train, test):\n",
    "    #todo: folding\n",
    "    columns = [\"Store\", \"DayOfWeek\", \"Promo\"]\n",
    "    means = train.groupby(columns)[\"Sales\"].mean()\n",
    "    means = means.reset_index()\n",
    "    means = means.rename(columns={\"Sales\" : \"MeanSales\"})\n",
    "\n",
    "    train = pd.merge(train, means, on=columns, how=\"left\", left_index=True, sort=False)\n",
    "    test = pd.merge(test, means, on=columns, how=\"left\", left_index=True, sort=False)\n",
    "\n",
    "    medians = train.groupby(columns)[\"Sales\"].median()\n",
    "    medians = medians.reset_index()\n",
    "    medians = medians.rename(columns={\"Sales\" : \"MedianSales\"})\n",
    "    train = pd.merge(train, medians, on=columns, how=\"left\", left_index=True, sort=False)\n",
    "    test = pd.merge(test, medians, on=columns, how=\"left\", left_index=True, sort=False)\n",
    "\n",
    "    train = train.drop(\"Sales\", axis=1)\n",
    "\n",
    "    return train, test"
   ]
  },
  {
   "cell_type": "code",
   "execution_count": 15,
   "metadata": {
    "collapsed": true
   },
   "outputs": [],
   "source": [
    "def rework_features(train, test, target):\n",
    "    le = preprocessing.LabelEncoder()\n",
    "\n",
    "    le.fit(train[\"Assortment\"])\n",
    "    train[\"Assortment\"] = le.transform(train[\"Assortment\"])\n",
    "    test[\"Assortment\"] = le.transform(test[\"Assortment\"])\n",
    "\n",
    "    le.fit(train[\"StoreType\"])\n",
    "    train[\"StoreType\"] = le.transform(train[\"StoreType\"])\n",
    "    test[\"StoreType\"] = le.transform(test[\"StoreType\"])\n",
    "\n",
    "    train, test = convert_date(train), convert_date(test)\n",
    "\n",
    "    train, test = add_counters(train, test)\n",
    "\n",
    "    train.drop([\"Customers\", \"StateHoliday\", \"Store\", \"PromoInterval\",\n",
    "                \"Date\"], axis=1, inplace=True)\n",
    "    test.drop([\"StateHoliday\", \"Id\", \"Store\", \"PromoInterval\",\n",
    "               \"Date\"], axis=1, inplace=True)\n",
    "\n",
    "    return train, test"
   ]
  },
  {
   "cell_type": "code",
   "execution_count": 16,
   "metadata": {
    "collapsed": true
   },
   "outputs": [],
   "source": [
    "def parametr_tuning(train_x, train_y, train_test_index):\n",
    "    rmspe_scorer = metrics.make_scorer(rmspe, greater_is_better=False)\n",
    "    param_grid = {\"max_depth\" : [5]}\n",
    "\n",
    "    xgb_model = EnsembleClassifier(n_estimators=500, learning_rate=0.1)\n",
    "\n",
    "    train_test_split = cross_validation.PredefinedSplit(test_fold=train_test_index)\n",
    "\n",
    "    clf = grid_search.GridSearchCV(xgb_model, param_grid, scoring=rmspe_scorer,\n",
    "                                   cv=train_test_split, verbose=10, n_jobs=1)\n",
    "    clf.fit(train_x.values.astype(np.float32), train_y)\n",
    "\n",
    "    print(\"Best score is: \", clf.best_score_)\n",
    "    print(\"Best parametrs:\")\n",
    "\n",
    "    best_params = clf.best_estimator_.get_params()\n",
    "    for param_name in sorted(best_params.keys()):\n",
    "        print(param_name, \":\", best_params[param_name])\n",
    "\n",
    "    return clf.grid_scores_"
   ]
  },
  {
   "cell_type": "code",
   "execution_count": 17,
   "metadata": {
    "collapsed": true
   },
   "outputs": [],
   "source": [
    "def save_result(index, result):\n",
    "    df = pd.DataFrame({\"PostId\": index, \"OpenStatus\": result})\n",
    "    df.to_csv(\"output/\" + str(datetime.datetime.now()), index=False)"
   ]
  },
  {
   "cell_type": "code",
   "execution_count": 18,
   "metadata": {
    "collapsed": false
   },
   "outputs": [
    {
     "name": "stdout",
     "output_type": "stream",
     "text": [
      "Fitting 1 folds for each of 1 candidates, totalling 1 fits\n",
      "[CV] max_depth=5 .....................................................\n",
      "[CV] ........................... max_depth=5, score=-0.130454 - 5.2min"
     ]
    },
    {
     "name": "stderr",
     "output_type": "stream",
     "text": [
      "/home/deathcoil/anaconda3/envs/python2env/lib/python2.7/site-packages/IPython/core/interactiveshell.py:3006: DtypeWarning: Columns (7) have mixed types. Specify dtype option on import or set low_memory=False.\n",
      "  if self.run_code(code, result):\n",
      "[Parallel(n_jobs=1)]: Done   1 jobs       | elapsed:  5.2min\n"
     ]
    },
    {
     "name": "stdout",
     "output_type": "stream",
     "text": [
      "\n",
      "('Best score is: ', -0.13045393028751029)\n",
      "Best parametrs:\n",
      "('base_score', ':', 0.5)\n",
      "('colsample_bylevel', ':', 1)\n",
      "('colsample_bytree', ':', 1)\n",
      "('gamma', ':', 0)\n",
      "('learning_rate', ':', 0.1)\n",
      "('max_delta_step', ':', 0)\n",
      "('max_depth', ':', 5)\n",
      "('min_child_weight', ':', 1)\n",
      "('missing', ':', None)\n",
      "('n_estimators', ':', 500)\n",
      "('nthread', ':', -1)\n",
      "('objective', ':', 'reg:linear')\n",
      "('reg_alpha', ':', 0)\n",
      "('reg_lambda', ':', 1)\n",
      "('scale_pos_weight', ':', 1)\n",
      "('seed', ':', 1234)\n",
      "('silent', ':', True)\n",
      "('subsample', ':', 1)\n"
     ]
    },
    {
     "name": "stderr",
     "output_type": "stream",
     "text": [
      "[Parallel(n_jobs=1)]: Done   1 out of   1 | elapsed:  5.2min finished\n"
     ]
    }
   ],
   "source": [
    "train, test, store = load_data()\n",
    "X_train, target, X_test, index, train_test_index = preprocess_data(train, test, store)\n",
    "\n",
    "X_train, X_test = rework_features(X_train, X_test, target)\n",
    "\n",
    "grid = parametr_tuning(X_train, np.log(target+1), train_test_index)"
   ]
  },
  {
   "cell_type": "code",
   "execution_count": null,
   "metadata": {
    "collapsed": true
   },
   "outputs": [],
   "source": []
  }
 ],
 "metadata": {
  "kernelspec": {
   "display_name": "Python 2",
   "language": "python",
   "name": "python2"
  },
  "language_info": {
   "codemirror_mode": {
    "name": "ipython",
    "version": 2
   },
   "file_extension": ".py",
   "mimetype": "text/x-python",
   "name": "python",
   "nbconvert_exporter": "python",
   "pygments_lexer": "ipython2",
   "version": "2.7.10"
  }
 },
 "nbformat": 4,
 "nbformat_minor": 0
}
